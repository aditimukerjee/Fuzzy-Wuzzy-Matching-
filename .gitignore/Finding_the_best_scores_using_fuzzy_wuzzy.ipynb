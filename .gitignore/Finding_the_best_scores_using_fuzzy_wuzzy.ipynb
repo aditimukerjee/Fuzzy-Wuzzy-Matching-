{
  "nbformat": 4,
  "nbformat_minor": 0,
  "metadata": {
    "colab": {
      "name": "Finding the best scores_using fuzzy_wuzzy.ipynb",
      "provenance": [],
      "collapsed_sections": []
    },
    "kernelspec": {
      "name": "python3",
      "display_name": "Python 3"
    },
    "language_info": {
      "name": "python"
    }
  },
  "cells": [
    {
      "cell_type": "code",
      "metadata": {
        "colab": {
          "base_uri": "https://localhost:8080/"
        },
        "id": "7xwH59QjDOEq",
        "outputId": "c7a9bf33-2ee9-45b1-c7e0-187c24600d3b"
      },
      "source": [
        "!pip install fuzzywuzzy"
      ],
      "execution_count": null,
      "outputs": [
        {
          "output_type": "stream",
          "text": [
            "Requirement already satisfied: fuzzywuzzy in /usr/local/lib/python3.7/dist-packages (0.18.0)\n"
          ],
          "name": "stdout"
        }
      ]
    },
    {
      "cell_type": "markdown",
      "metadata": {
        "id": "20NPCuclsfse"
      },
      "source": [
        "Overlap Major Non-Adj. Panel\n",
        "Pre-repair scan\n",
        "Post-repair scan\n",
        "BASECOAT DED\n",
        "Add for Clear Coat\n",
        "Mask for Primer\n",
        "Set Up On Floor\n",
        "Overlap Major Adj. Panel\n",
        "Estimate copy given to customer\n",
        "Overlap Minor Panel\n",
        "Applique retainer\n",
        "Pressure vent\n",
        "\n",
        "\n",
        "\n",
        "https://www.datacamp.com/community/tutorials/fuzzy-string-python\n"
      ]
    },
    {
      "cell_type": "code",
      "metadata": {
        "id": "QdAaAhMeDhg3"
      },
      "source": [
        "import pandas as pd\n",
        "import numpy as np\n",
        "from fuzzywuzzy import process\n",
        "from fuzzywuzzy.fuzz import ratio\n",
        "from fuzzywuzzy import fuzz"
      ],
      "execution_count": null,
      "outputs": []
    },
    {
      "cell_type": "code",
      "metadata": {
        "id": "nt4cdJ2SlX89"
      },
      "source": [
        "ratio_threshold = 60\n",
        "Partial_Ratio_threshold = 70\n",
        "Token_Sort_Ratio_threshold = 80\n",
        "Token_Set_Ratio_threshold = 95"
      ],
      "execution_count": null,
      "outputs": []
    },
    {
      "cell_type": "markdown",
      "metadata": {
        "id": "jB2QelHltTgq"
      },
      "source": [
        "FIRST WORD"
      ]
    },
    {
      "cell_type": "code",
      "metadata": {
        "colab": {
          "base_uri": "https://localhost:8080/"
        },
        "id": "EdUQdWYojrZv",
        "outputId": "1e20c696-da31-4747-c590-5c848bf4f0c9"
      },
      "source": [
        "from fuzzywuzzy import process\n",
        "Str1 = \"Overlap Major Non-Adj. Panel\"\n",
        "Str2 = [\"Overlap Major Adj. Panel\", \"overlap major panel\", \" Non Adjecent Panel\",\" Adjecent Panel\",\"Major Panel\",\"Overlapping Panel\",\"Overhead Panel\",\"Major Panel\",\n",
        "        \"Ele[hants in panel\"]\n",
        "for keyword in (Str2):\n",
        "    keyword = keyword.lower()\n",
        "    print(keyword)\n",
        "for keyword in (Str2): \n",
        "    print(\"___________________________\")\n",
        "    print(\"For keyword - \" + keyword )\n",
        "    Ratio = fuzz.ratio(Str1.lower(),keyword.lower())\n",
        "    Partial_Ratio = fuzz.partial_ratio(Str1.lower(),keyword.lower())\n",
        "    Token_Sort_Ratio = fuzz.token_sort_ratio(Str1.lower(),keyword.lower())\n",
        "    Token_Set_Ratio = fuzz.token_set_ratio(Str1.lower(),keyword.lower())\n",
        "    print(Ratio)\n",
        "    print(Partial_Ratio)\n",
        "    print(Token_Sort_Ratio)\n",
        "    print(Token_Set_Ratio)\n",
        "    \n",
        "    if (Ratio > ratio_threshold):\n",
        "            print(\"The Ratio is higher than the threshold ratio for \" + keyword)\n",
        "    if (Partial_Ratio > Partial_Ratio_threshold):\n",
        "        print(\"The Partial Ratio is higher than the threshold partial ratio for \" + keyword)\n",
        "    if (Token_Sort_Ratio > Token_Sort_Ratio_threshold):\n",
        "        print(\"The Token Sort Ratio is higher than the token sort ratio for \" + keyword)\n",
        "    if (Token_Set_Ratio > Token_Set_Ratio_threshold):\n",
        "        print(\"The Token Set Ratio is higher than the token set ratio for \" + keyword)             \n",
        "    continue   "
      ],
      "execution_count": null,
      "outputs": [
        {
          "output_type": "stream",
          "text": [
            "overlap major adj. panel\n",
            "overlap major panel\n",
            " non adjecent panel\n",
            " adjecent panel\n",
            "major panel\n",
            "overlapping panel\n",
            "overhead panel\n",
            "major panel\n",
            "ele[hants in panel\n",
            "___________________________\n",
            "For keyword - Overlap Major Adj. Panel\n",
            "92\n",
            "83\n",
            "92\n",
            "100\n",
            "The Ratio is higher than the threshold ratio for Overlap Major Adj. Panel\n",
            "The Partial Ratio is higher than the threshold partial ratio for Overlap Major Adj. Panel\n",
            "The Token Sort Ratio is higher than the token sort ratio for Overlap Major Adj. Panel\n",
            "The Token Set Ratio is higher than the token set ratio for Overlap Major Adj. Panel\n",
            "___________________________\n",
            "For keyword - overlap major panel\n",
            "81\n",
            "79\n",
            "83\n",
            "100\n",
            "The Ratio is higher than the threshold ratio for overlap major panel\n",
            "The Partial Ratio is higher than the threshold partial ratio for overlap major panel\n",
            "The Token Sort Ratio is higher than the token sort ratio for overlap major panel\n",
            "The Token Set Ratio is higher than the token set ratio for overlap major panel\n",
            "___________________________\n",
            "For keyword -  Non Adjecent Panel\n",
            "55\n",
            "76\n",
            "58\n",
            "67\n",
            "The Partial Ratio is higher than the threshold partial ratio for  Non Adjecent Panel\n",
            "___________________________\n",
            "For keyword -  Adjecent Panel\n",
            "47\n",
            "69\n",
            "49\n",
            "53\n",
            "___________________________\n",
            "For keyword - Major Panel\n",
            "56\n",
            "73\n",
            "58\n",
            "100\n",
            "The Partial Ratio is higher than the threshold partial ratio for Major Panel\n",
            "The Token Set Ratio is higher than the token set ratio for Major Panel\n",
            "___________________________\n",
            "For keyword - Overlapping Panel\n",
            "62\n",
            "53\n",
            "59\n",
            "59\n",
            "The Ratio is higher than the threshold ratio for Overlapping Panel\n",
            "___________________________\n",
            "For keyword - Overhead Panel\n",
            "57\n",
            "64\n",
            "54\n",
            "54\n",
            "___________________________\n",
            "For keyword - Major Panel\n",
            "56\n",
            "73\n",
            "58\n",
            "100\n",
            "The Partial Ratio is higher than the threshold partial ratio for Major Panel\n",
            "The Token Set Ratio is higher than the token set ratio for Major Panel\n",
            "___________________________\n",
            "For keyword - Ele[hants in panel\n",
            "48\n",
            "39\n",
            "40\n",
            "43\n"
          ],
          "name": "stdout"
        }
      ]
    },
    {
      "cell_type": "markdown",
      "metadata": {
        "id": "AHfSBHOftXbN"
      },
      "source": [
        "SECOND WORD - Pre-repair scan"
      ]
    },
    {
      "cell_type": "code",
      "metadata": {
        "colab": {
          "base_uri": "https://localhost:8080/"
        },
        "id": "Vut88s2ltWi6",
        "outputId": "553c3280-ce20-4da2-d114-72babbde63a5"
      },
      "source": [
        "from fuzzywuzzy import process\n",
        "Str1 = \"Pre-repair scan\"\n",
        "Str2 = [\" Pre-repair scan\",\" pre repair scan\",\" pre repair\",\"to be repaired\",\"post repair scan\",\"already repaired\"]\n",
        "\n",
        "for keyword in (Str2):\n",
        "    keyword = keyword.lower()\n",
        "    print(keyword)\n",
        "for keyword in (Str2): \n",
        "    print(\"___________________________\")\n",
        "    print(\"For keyword - \" + keyword )\n",
        "    Ratio = fuzz.ratio(Str1.lower(),keyword.lower())\n",
        "    Partial_Ratio = fuzz.partial_ratio(Str1.lower(),keyword.lower())\n",
        "    Token_Sort_Ratio = fuzz.token_sort_ratio(Str1.lower(),keyword.lower())\n",
        "    Token_Set_Ratio = fuzz.token_set_ratio(Str1.lower(),keyword.lower())\n",
        "    print(Ratio)\n",
        "    print(Partial_Ratio)\n",
        "    print(Token_Sort_Ratio)\n",
        "    print(Token_Set_Ratio)\n",
        "    \n",
        "    if (Ratio > ratio_threshold):\n",
        "            print(\"The Ratio is higher than the threshold ratio for \" + keyword)\n",
        "    if (Partial_Ratio > Partial_Ratio_threshold):\n",
        "        print(\"The Partial Ratio is higher than the threshold partial ratio for \" + keyword)\n",
        "    if (Token_Sort_Ratio > Token_Sort_Ratio_threshold):\n",
        "        print(\"The Token Sort Ratio is higher than the token sort ratio for \" + keyword)\n",
        "    if (Token_Set_Ratio > Token_Set_Ratio_threshold):\n",
        "        print(\"The Token Set Ratio is higher than the token set ratio for \" + keyword)             \n",
        "    continue   "
      ],
      "execution_count": null,
      "outputs": [
        {
          "output_type": "stream",
          "text": [
            " pre-repair scan\n",
            " pre repair scan\n",
            " pre repair\n",
            "to be repaired\n",
            "post repair scan\n",
            "already repaired\n",
            "___________________________\n",
            "For keyword -  Pre-repair scan\n",
            "97\n",
            "100\n",
            "100\n",
            "100\n",
            "The Ratio is higher than the threshold ratio for  Pre-repair scan\n",
            "The Partial Ratio is higher than the threshold partial ratio for  Pre-repair scan\n",
            "The Token Sort Ratio is higher than the token sort ratio for  Pre-repair scan\n",
            "The Token Set Ratio is higher than the token set ratio for  Pre-repair scan\n",
            "___________________________\n",
            "For keyword -  pre repair scan\n",
            "90\n",
            "93\n",
            "100\n",
            "100\n",
            "The Ratio is higher than the threshold ratio for  pre repair scan\n",
            "The Partial Ratio is higher than the threshold partial ratio for  pre repair scan\n",
            "The Token Sort Ratio is higher than the token sort ratio for  pre repair scan\n",
            "The Token Set Ratio is higher than the token set ratio for  pre repair scan\n",
            "___________________________\n",
            "For keyword -  pre repair\n",
            "69\n",
            "82\n",
            "80\n",
            "100\n",
            "The Ratio is higher than the threshold ratio for  pre repair\n",
            "The Partial Ratio is higher than the threshold partial ratio for  pre repair\n",
            "The Token Set Ratio is higher than the token set ratio for  pre repair\n",
            "___________________________\n",
            "For keyword - to be repaired\n",
            "48\n",
            "50\n",
            "62\n",
            "62\n",
            "___________________________\n",
            "For keyword - post repair scan\n",
            "77\n",
            "73\n",
            "84\n",
            "85\n",
            "The Ratio is higher than the threshold ratio for post repair scan\n",
            "The Partial Ratio is higher than the threshold partial ratio for post repair scan\n",
            "The Token Sort Ratio is higher than the token sort ratio for post repair scan\n",
            "___________________________\n",
            "For keyword - already repaired\n",
            "52\n",
            "53\n",
            "58\n",
            "58\n"
          ],
          "name": "stdout"
        }
      ]
    },
    {
      "cell_type": "markdown",
      "metadata": {
        "id": "I5XQ1AyCwABs"
      },
      "source": [
        "https://stackoverflow.com/questions/31806695/when-to-use-which-fuzz-function-to-compare-2-strings"
      ]
    },
    {
      "cell_type": "code",
      "metadata": {
        "colab": {
          "base_uri": "https://localhost:8080/"
        },
        "id": "i64iLZTZvq3p",
        "outputId": "947f8ed3-44c5-45c9-bbb4-904c66e85668"
      },
      "source": [
        "from fuzzywuzzy import process\n",
        "Str1 = \"Pre-repair scan\"\n",
        "Str2 = [\" Pre-repair scan\",\" pre repair scan\",\" pre repair\",\"to be repaired\",\"post repair scan\",\"already repaired\"]\n",
        "\n",
        "for keyword in (Str2):\n",
        "    keyword = keyword.lower()\n",
        "    print(keyword)\n",
        "for keyword in (Str2): \n",
        "    print(\"___________________________\")\n",
        "    print(\"For keyword - \" + keyword )\n",
        "    QRatio = fuzz.QRatio(Str1.lower(),keyword.lower())\n",
        "    UQRatio = fuzz.UQRatio(Str1.lower(),keyword.lower())\n",
        "    WRatio = fuzz.WRatio(Str1.lower(),keyword.lower())\n",
        "    UWRatio = fuzz.UWRatio(Str1.lower(),keyword.lower())\n",
        "    print(QRatio)\n",
        "    print(UQRatio)\n",
        "    print(WRatio)\n",
        "    print(UWRatio)\n",
        "    \n",
        "    if (QRatio > ratio_threshold):\n",
        "            print(\"The Ratio is higher than the threshold ratio for \" + keyword)\n",
        "    if (UQRatio > Partial_Ratio_threshold):\n",
        "        print(\"The Partial Ratio is higher than the threshold partial ratio for \" + keyword)\n",
        "    if (WRatio > Token_Sort_Ratio_threshold):\n",
        "        print(\"The Token Sort Ratio is higher than the token sort ratio for \" + keyword)\n",
        "    if (UWRatio > Token_Set_Ratio_threshold):\n",
        "        print"
      ],
      "execution_count": null,
      "outputs": [
        {
          "output_type": "stream",
          "text": [
            " pre-repair scan\n",
            " pre repair scan\n",
            " pre repair\n",
            "to be repaired\n",
            "post repair scan\n",
            "already repaired\n",
            "___________________________\n",
            "For keyword -  Pre-repair scan\n",
            "100\n",
            "100\n",
            "100\n",
            "100\n",
            "The Ratio is higher than the threshold ratio for  Pre-repair scan\n",
            "The Partial Ratio is higher than the threshold partial ratio for  Pre-repair scan\n",
            "The Token Sort Ratio is higher than the token sort ratio for  Pre-repair scan\n",
            "___________________________\n",
            "For keyword -  pre repair scan\n",
            "100\n",
            "100\n",
            "100\n",
            "100\n",
            "The Ratio is higher than the threshold ratio for  pre repair scan\n",
            "The Partial Ratio is higher than the threshold partial ratio for  pre repair scan\n",
            "The Token Sort Ratio is higher than the token sort ratio for  pre repair scan\n",
            "___________________________\n",
            "For keyword -  pre repair\n",
            "80\n",
            "80\n",
            "90\n",
            "90\n",
            "The Ratio is higher than the threshold ratio for  pre repair\n",
            "The Partial Ratio is higher than the threshold partial ratio for  pre repair\n",
            "The Token Sort Ratio is higher than the token sort ratio for  pre repair\n",
            "___________________________\n",
            "For keyword - to be repaired\n",
            "55\n",
            "55\n",
            "59\n",
            "59\n",
            "___________________________\n",
            "For keyword - post repair scan\n",
            "84\n",
            "84\n",
            "84\n",
            "84\n",
            "The Ratio is higher than the threshold ratio for post repair scan\n",
            "The Partial Ratio is higher than the threshold partial ratio for post repair scan\n",
            "The Token Sort Ratio is higher than the token sort ratio for post repair scan\n",
            "___________________________\n",
            "For keyword - already repaired\n",
            "58\n",
            "58\n",
            "58\n",
            "58\n"
          ],
          "name": "stdout"
        }
      ]
    },
    {
      "cell_type": "code",
      "metadata": {
        "id": "ExG1sQfIFaOU"
      },
      "source": [
        ""
      ],
      "execution_count": null,
      "outputs": []
    }
  ]
}